{
 "cells": [
  {
   "cell_type": "code",
   "execution_count": 16,
   "metadata": {},
   "outputs": [
    {
     "name": "stdout",
     "output_type": "stream",
     "text": [
      "Best Feature: LSTAT\n",
      "Best R²: 0.6586639758194484\n"
     ]
    }
   ],
   "source": [
    "import numpy as np\n",
    "import pandas as pd\n",
    "from sklearn.datasets import load_boston\n",
    "from sklearn.model_selection import train_test_split\n",
    "from sklearn.linear_model import LinearRegression\n",
    "from sklearn.metrics import mean_squared_error\n",
    "\n",
    "# Load the Boston Housing dataset\n",
    "data = load_boston()\n",
    "X = data.data\n",
    "y = data.target\n",
    "feature_names = data.feature_names\n",
    "\n",
    "# Preprocess the data\n",
    "X_train, X_test, y_train, y_test = train_test_split(X, y, test_size=0.2, random_state=42)\n",
    "\n",
    "\n",
    "y_bar = np.mean(y_train)\n",
    "\n",
    "best_r2 = -np.inf\n",
    "best_feature = None\n",
    "\n",
    "# Iterate over each feature\n",
    "for feature_idx in range(X_train.shape[1]):\n",
    "    # Select the current feature\n",
    "    X_train_feature = X_train[:, feature_idx].reshape(-1, 1)\n",
    "    X_test_feature = X_test[:, feature_idx].reshape(-1, 1)\n",
    "    \n",
    "    # Create a Linear Regression model\n",
    "    model = LinearRegression()\n",
    "    \n",
    "    # Fit the model\n",
    "    model.fit(X_train_feature, y_train)\n",
    "    \n",
    "    # Predictions\n",
    "    y_pred = model.predict(X_test_feature)\n",
    "    \n",
    "    # Calculate SSR, SSE, SST\n",
    "    SSR = np.sum((y_pred - y_bar) ** 2)\n",
    "    SSE = np.sum((y_test - y_pred) ** 2)\n",
    "    SST = np.sum((y_test - y_bar) ** 2)\n",
    "    \n",
    "    # Calculate R²\n",
    "    r2 = SSR / SST\n",
    "    \n",
    "    # Check if this model is the best one\n",
    "    if r2 > best_r2:\n",
    "        best_r2 = r2\n",
    "        best_feature = feature_names[feature_idx]\n",
    "\n",
    "# Print the best feature and its R² value\n",
    "print(\"Best Feature:\", best_feature)\n",
    "print(\"Best R²:\", best_r2)\n"
   ]
  },
  {
   "cell_type": "code",
   "execution_count": null,
   "metadata": {},
   "outputs": [],
   "source": []
  }
 ],
 "metadata": {
  "kernelspec": {
   "display_name": "Python 3",
   "language": "python",
   "name": "python3"
  },
  "language_info": {
   "codemirror_mode": {
    "name": "ipython",
    "version": 3
   },
   "file_extension": ".py",
   "mimetype": "text/x-python",
   "name": "python",
   "nbconvert_exporter": "python",
   "pygments_lexer": "ipython3",
   "version": "3.7.4"
  }
 },
 "nbformat": 4,
 "nbformat_minor": 2
}
