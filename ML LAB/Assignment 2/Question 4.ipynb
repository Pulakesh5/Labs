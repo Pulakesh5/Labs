{
 "cells": [
  {
   "cell_type": "code",
   "execution_count": null,
   "metadata": {},
   "outputs": [],
   "source": []
  },
  {
   "cell_type": "code",
   "execution_count": 3,
   "metadata": {},
   "outputs": [
    {
     "name": "stdout",
     "output_type": "stream",
     "text": [
      "Expected Losses: {'Surgery': 80.76923076923079, 'No Surgery': 50.0}\n",
      "Action with Minimum Expected Loss: No Surgery\n"
     ]
    }
   ],
   "source": [
    "# Prior probabilities\n",
    "prior_probabilities = {\n",
    "    \"Surgery\": {\"None\": 100/130, \"Lung Cancer\": 20/130, \"Breast Cancer\": 10/130},\n",
    "    \"No Surgery\": {\"None\": 0/100, \"Lung Cancer\": 50/100, \"Breast Cancer\": 50/100}\n",
    "}\n",
    "\n",
    "# Loss matrix\n",
    "loss_matrix = {\n",
    "    \"Surgery\": {\"None\": 100, \"Lung Cancer\": 20, \"Breast Cancer\": 10},\n",
    "    \"No Surgery\": {\"None\": 0, \"Lung Cancer\": 50, \"Breast Cancer\": 50}\n",
    "}\n",
    "\n",
    "# Calculate expected losses\n",
    "expected_losses = {}\n",
    "for action in prior_probabilities:\n",
    "    expected_loss = sum(prior_probabilities[action][outcome] * loss_matrix[action][outcome] for outcome in prior_probabilities[action])\n",
    "    expected_losses[action] = expected_loss\n",
    "\n",
    "# Find action with minimum expected loss\n",
    "min_expected_loss_action = min(expected_losses, key=expected_losses.get)\n",
    "\n",
    "print(\"Expected Losses:\", expected_losses)\n",
    "print(\"Action with Minimum Expected Loss:\", min_expected_loss_action)"
   ]
  },
  {
   "cell_type": "code",
   "execution_count": null,
   "metadata": {},
   "outputs": [],
   "source": []
  },
  {
   "cell_type": "code",
   "execution_count": null,
   "metadata": {},
   "outputs": [],
   "source": []
  }
 ],
 "metadata": {
  "kernelspec": {
   "display_name": "Python 3",
   "language": "python",
   "name": "python3"
  },
  "language_info": {
   "codemirror_mode": {
    "name": "ipython",
    "version": 3
   },
   "file_extension": ".py",
   "mimetype": "text/x-python",
   "name": "python",
   "nbconvert_exporter": "python",
   "pygments_lexer": "ipython3",
   "version": "3.7.4"
  }
 },
 "nbformat": 4,
 "nbformat_minor": 2
}
