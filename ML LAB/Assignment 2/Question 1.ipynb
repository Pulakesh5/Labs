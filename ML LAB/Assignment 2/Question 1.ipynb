from numpy import *
from matplotlib.pyplot import *
from math import *
from mpl_toolkits.mplot3d import Axes3D

def func(x, y, meanx, meany, stdx, stdy, p, s):
    T = p*((x-meanx)/stdx)*((y-meany)/stdy)+(((y-meany)/stdy)**2)
    num = exp((-1/2*(1-p**2))*(((x-meanx)/stdx)**2)-2*T)/(2*pi*stdx*stdy*sqrt(1-s**2))
    return num

# def question1():
n = 500
dataset = [i for i in range(500)]
# for i in range(n):
#     t = list()
#     for j in range(2):
#         t.append(int(random.random()*500))
#     dataset.append(t)
meanx = mean(dataset)
meany = mean(dataset)
stdx = std(dataset)
stdy = std(dataset)
xpoints = list()
ypoints = list()
points = list()
p = 0.5
s = 0.75
for i in dataset:
    xpoints.append(i)
    ypoints.append(i)
    points.append(func(i, i, meanx, meany, stdx, stdy, p, s))
fig = figure()
ax = fig.gca(projection='3d')
# tk = axes(projection ='3d')
ax.plot3D(array(xpoints), array(ypoints), array(points))
show()

# question1()

